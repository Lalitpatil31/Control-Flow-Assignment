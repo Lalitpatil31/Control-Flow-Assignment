{
 "cells": [
  {
   "cell_type": "markdown",
   "metadata": {},
   "source": [
    "#  Basic If-Else Statements"
   ]
  },
  {
   "cell_type": "code",
   "execution_count": 2,
   "metadata": {},
   "outputs": [
    {
     "name": "stdout",
     "output_type": "stream",
     "text": [
      "Negative\n"
     ]
    }
   ],
   "source": [
    "#1. Write a Python program to check if a given number is positive or negative.\n",
    "num = -10  \n",
    "if num >= 0:  \n",
    "    print(\"Positive\")  \n",
    "else: \n",
    "    print(\"Negative\")  "
   ]
  },
  {
   "cell_type": "markdown",
   "metadata": {},
   "source": [
    "- Step 1: Input the number.\n",
    "- Step 2: Check if the number is greater than or equal to 0.\n",
    "- Step 3: Print \"Positive\" if the condition is true.\n",
    "- Step 4: Execute this block if the condition is false.\n",
    "- Step 5: Print \"Negative\".\n"
   ]
  },
  {
   "cell_type": "code",
   "execution_count": 1,
   "metadata": {},
   "outputs": [
    {
     "name": "stdout",
     "output_type": "stream",
     "text": [
      "Eligible to vote\n"
     ]
    }
   ],
   "source": [
    "#2. Create a program that determines if a person is eligible to vote based on their age.\n",
    "age = 18  \n",
    "if age >= 18:  \n",
    "    print(\"Eligible to vote\")  \n",
    "else:  \n",
    "    print(\"Not eligible to vote\")  "
   ]
  },
  {
   "cell_type": "markdown",
   "metadata": {},
   "source": [
    "# Step 1: Input the age.\n",
    "# Step 2: Check if the age is 18 or above.\n",
    "# Step 3: Print eligibility message if true.\n",
    "# Step 4: Execute this block if the condition is false.\n",
    "# Step 5: Print not eligible message.\n"
   ]
  },
  {
   "cell_type": "code",
   "execution_count": 3,
   "metadata": {},
   "outputs": [
    {
     "name": "stdout",
     "output_type": "stream",
     "text": [
      "10\n"
     ]
    }
   ],
   "source": [
    "#3. Develop a program to find the maximum of two numbers using if-else statements.\n",
    "a, b = 5, 10  \n",
    "if a > b:  \n",
    "    print(a)  \n",
    "else:  \n",
    "    print(b)  \n"
   ]
  },
  {
   "cell_type": "markdown",
   "metadata": {},
   "source": [
    "- Step 1: Input two numbers.\n",
    "- Step 2: Compare `a` and `b`.\n",
    "- Step 3: Print `a` if it is greater.\n",
    "- Step 4: Execute this block if `a` is not greater than `b`.\n",
    "- Step 5: Print `b`."
   ]
  },
  {
   "cell_type": "code",
   "execution_count": 4,
   "metadata": {},
   "outputs": [
    {
     "name": "stdout",
     "output_type": "stream",
     "text": [
      "Leap Year\n"
     ]
    }
   ],
   "source": [
    "#4. Write a Python script to classify a given year as a leap year or not.\n",
    "year = 2024  \n",
    "if (year % 4 == 0 and year % 100 != 0) or (year % 400 == 0):  \n",
    "    \n",
    "    print(\"Leap Year\")  \n",
    "else:  \n",
    "    print(\"Not a Leap Year\")  "
   ]
  },
  {
   "cell_type": "markdown",
   "metadata": {},
   "source": [
    "- Step 1: Input the year.\n",
    "- Step 2: Check leap year conditions.\n",
    "- Step 3: Print \"Leap Year\" if true.\n",
    "- Step 4: Execute this block if the condition is false.\n",
    "- Step 5: Print \"Not a Leap Year\".\n"
   ]
  },
  {
   "cell_type": "code",
   "execution_count": 5,
   "metadata": {},
   "outputs": [
    {
     "name": "stdout",
     "output_type": "stream",
     "text": [
      "Vowel\n"
     ]
    }
   ],
   "source": [
    "#5. Create a program that checks whether a character is a vowel or a consonant.\n",
    "char = 'e'  \n",
    "if char.lower() in 'aeiou':  \n",
    "    print(\"Vowel\")  \n",
    "else:  \n",
    "    print(\"Consonant\")  \n"
   ]
  },
  {
   "cell_type": "markdown",
   "metadata": {},
   "source": [
    "- Step 1: Input the character.\n",
    "- Step 2: Check if the character is a vowel.\n",
    "- Step 3: Print \"Vowel\" if true.\n",
    "- Step 4: Execute this block if the condition is false.\n",
    "- Step 5: Print \"Consonant\"."
   ]
  },
  {
   "cell_type": "code",
   "execution_count": 6,
   "metadata": {},
   "outputs": [
    {
     "name": "stdout",
     "output_type": "stream",
     "text": [
      "Odd\n"
     ]
    }
   ],
   "source": [
    "#6. Implement a program to determine whether a given number is even or odd.\n",
    "num = 7 \n",
    "if num % 2 == 0:  \n",
    "    print(\"Even\")  \n",
    "else: \n",
    "    print(\"Odd\")  \n"
   ]
  },
  {
   "cell_type": "markdown",
   "metadata": {},
   "source": [
    "- Step 1: Input the number.\n",
    "- Step 2: Check if the number is divisible by 2.\n",
    "- Step 3: Print \"Even\" if true.\n",
    "- Step 4: Execute this block if the condition is false.\n",
    "- Step 5: Print \"Odd\"."
   ]
  },
  {
   "cell_type": "code",
   "execution_count": 7,
   "metadata": {},
   "outputs": [
    {
     "name": "stdout",
     "output_type": "stream",
     "text": [
      "5\n"
     ]
    }
   ],
   "source": [
    "#7. Write a Python function to calculate the absolute value of a number without using the `abs()` function.\n",
    "num = -5  \n",
    "if num < 0:  \n",
    "    num = -num  \n",
    "print(num)  \n"
   ]
  },
  {
   "cell_type": "markdown",
   "metadata": {},
   "source": [
    "- Step 1: Input the number.\n",
    "- Step 2: Check if the number is negative.\n",
    "- Step 3: Negate the number to make it positive.\n",
    "- Step 4: Print the absolute value."
   ]
  },
  {
   "cell_type": "code",
   "execution_count": 8,
   "metadata": {},
   "outputs": [
    {
     "name": "stdout",
     "output_type": "stream",
     "text": [
      "20\n"
     ]
    }
   ],
   "source": [
    "#8. Develop a program that determines the largest of three given numbers using if-else statements.\n",
    "a, b, c = 10, 20, 15  \n",
    "if a > b and a > c:  \n",
    "    print(a)  \n",
    "elif b > c:  \n",
    "    print(b)  \n",
    "else:  \n",
    "    print(c)  \n"
   ]
  },
  {
   "cell_type": "markdown",
   "metadata": {},
   "source": [
    "- Step 1: Input three numbers.\n",
    "- Step 2: Check if `a` is greater than both `b` and `c`.\n",
    "- Step 3: Print `a` if true.\n",
    "- Step 4: Check if `b` is greater than `c`.\n",
    "- Step 5: Print `b` if true.\n",
    "- Step 6: If both conditions are false, execute this block.\n",
    "- Step 7: Print `c`."
   ]
  },
  {
   "cell_type": "code",
   "execution_count": 10,
   "metadata": {},
   "outputs": [
    {
     "name": "stdout",
     "output_type": "stream",
     "text": [
      "Palindrome\n"
     ]
    }
   ],
   "source": [
    "#9. Create a program that checks if a given string is a palindrome.\n",
    "string = \"radar\"  \n",
    "if string == string[::-1]:  \n",
    "    print(\"Palindrome\")  \n",
    "else:  \n",
    "    print(\"Not a Palindrome\")  \n"
   ]
  },
  {
   "cell_type": "markdown",
   "metadata": {},
   "source": [
    "- Step 1: Input the string.\n",
    "- Step 2: Compare the string with its reverse.\n",
    "- Step 3: Print \"Palindrome\" if true.\n",
    "- Step 4: Execute this block if the condition is false.\n",
    "- Step 5: Print \"Not a Palindrome\"."
   ]
  },
  {
   "cell_type": "code",
   "execution_count": 11,
   "metadata": {},
   "outputs": [
    {
     "name": "stdout",
     "output_type": "stream",
     "text": [
      "Grade: B\n"
     ]
    }
   ],
   "source": [
    "#10. Write a Python program to calculate the grade based on a student's score\n",
    "score = 85  \n",
    "if score >= 90: \n",
    "    grade = \"A\"\n",
    "elif score >= 80:  \n",
    "    grade = \"B\"\n",
    "elif score >= 70:  \n",
    "    grade = \"C\"\n",
    "elif score >= 60:  \n",
    "    grade = \"D\"\n",
    "else: \n",
    "    grade = \"F\"\n",
    "print(\"Grade:\", grade)  "
   ]
  },
  {
   "cell_type": "markdown",
   "metadata": {},
   "source": [
    "- Step 1: Input the score.\n",
    "- Step 2: Check if the score is 90 or above.\n",
    "- Step 3: Check if the score is between 80 and 89.\n",
    "- Step 4: Check if the score is between 70 and 79.\n",
    "- Step 5: Check if the score is between 60 and 69.\n",
    "- Step 6: Execute this block for scores below 60.\n",
    "- Step 7: Print the grade.\n"
   ]
  },
  {
   "cell_type": "markdown",
   "metadata": {},
   "source": [
    "# Nested If-Else Statements:"
   ]
  },
  {
   "cell_type": "code",
   "execution_count": 12,
   "metadata": {},
   "outputs": [
    {
     "name": "stdout",
     "output_type": "stream",
     "text": [
      "Largest: 20\n"
     ]
    }
   ],
   "source": [
    "#11. Write a program to find the largest among three numbers using nested if-else statements.\n",
    "a, b, c = 10, 20, 15  \n",
    "\n",
    "if a > b: \n",
    "    if a > c:  \n",
    "        print(\"Largest:\", a)  \n",
    "    else:\n",
    "        print(\"Largest:\", c)  \n",
    "else:\n",
    "    if b > c:  \n",
    "        print(\"Largest:\", b)  \n",
    "    else:\n",
    "        print(\"Largest:\", c)  "
   ]
  },
  {
   "cell_type": "markdown",
   "metadata": {},
   "source": [
    "- Step 1: Input three numbers.\n",
    "- Step 2: Compare `a` and `b`.\n",
    "- Step 3: Compare `a` and `c`.\n",
    "- Step 4: Print `a` if it is the largest.\n",
    "- Step 5: Print `c` if it is larger than `a`.\n",
    "- Step 6: Compare `b` and `c`.\n",
    "- Step 7: Print `b` if it is the largest.\n",
    "- Step 8: Print `c` if it is larger than `b`.\n",
    "\n",
    "\n"
   ]
  },
  {
   "cell_type": "code",
   "execution_count": 13,
   "metadata": {},
   "outputs": [
    {
     "name": "stdout",
     "output_type": "stream",
     "text": [
      "Equilateral\n"
     ]
    }
   ],
   "source": [
    "#12. Implement a program to determine if a triangle is equilateral, isosceles, or scalene.\n",
    "a, b, c = 5, 5, 5  \n",
    "if a == b and b == c:  \n",
    "    print(\"Equilateral\")  \n",
    "elif a == b or b == c or a == c:  \n",
    "    print(\"Isosceles\")  \n",
    "else:  \n",
    "    print(\"Scalene\")  \n"
   ]
  },
  {
   "cell_type": "markdown",
   "metadata": {},
   "source": [
    "- Step 1: Input the three sides of the triangle.\n",
    "- Step 2: Check if all sides are equal.\n",
    "- Step 3: Print \"Equilateral\" if true.\n",
    "- Step 4: Check if any two sides are equal.\n",
    "- Step 5: Print \"Isosceles\" if true.\n",
    "- Step 6: If neither condition is true:\n",
    "- Step 7: Print \"Scalene\".\n"
   ]
  },
  {
   "cell_type": "code",
   "execution_count": 14,
   "metadata": {},
   "outputs": [
    {
     "name": "stdout",
     "output_type": "stream",
     "text": [
      "Leap and Century Year\n"
     ]
    }
   ],
   "source": [
    "#13. Develop a program that checks if a year is a leap year and also if it is a century year.\n",
    "year = 2000  \n",
    "\n",
    "if year % 4 == 0:  \n",
    "    if year % 100 == 0:  \n",
    "        if year % 400 == 0:  \n",
    "            print(\"Leap and Century Year\")  \n",
    "        else:\n",
    "            print(\"Not a Leap Year\")  \n",
    "    else:\n",
    "        print(\"Leap Year\")  \n",
    "else:\n",
    "    print(\"Not a Leap Year\")  \n"
   ]
  },
  {
   "cell_type": "markdown",
   "metadata": {},
   "source": [
    "- Step 1: Input the year.\n",
    "- Step 2: Check if the year is divisible by 4.\n",
    "- Step 3: Check if it is a century year.\n",
    "- Step 4: Check if it is divisible by 400.\n",
    "- Step 5: Print message.\n",
    "- Step 6: Print message.\n",
    "- Step 7: Print message.\n",
    "- Step 8: Print message."
   ]
  },
  {
   "cell_type": "code",
   "execution_count": 15,
   "metadata": {},
   "outputs": [
    {
     "name": "stdout",
     "output_type": "stream",
     "text": [
      "Zero\n"
     ]
    }
   ],
   "source": [
    "#14. Write a Python script to determine if a number is positive, negative, or zero.\n",
    "num = 0  \n",
    "\n",
    "if num > 0:  \n",
    "    print(\"Positive\")  \n",
    "elif num < 0:  \n",
    "    print(\"Negative\")  \n",
    "else:  \n",
    "    print(\"Zero\")  \n"
   ]
  },
  {
   "cell_type": "markdown",
   "metadata": {},
   "source": [
    "- Step 1: Input the number.\n",
    "- Step 2: Check if the number is positive.\n",
    "- Step 3: Print \"Positive\".\n",
    "- Step 4: Check if the number is negative, print negative\n",
    "- Step 5: If neither condition is true print zero\n"
   ]
  },
  {
   "cell_type": "code",
   "execution_count": 20,
   "metadata": {},
   "outputs": [
    {
     "name": "stdout",
     "output_type": "stream",
     "text": [
      "Teenager\n",
      "not teenager\n"
     ]
    }
   ],
   "source": [
    "#15. Create a program to check if a person is a teenager (between 13 and 19 years old).\n",
    "age = int(input())  \n",
    "if age >= 13:  \n",
    "    if age <= 19:  \n",
    "        print(\"Teenager\")  \n",
    "    else:\n",
    "        print(\"Not a Teenager\")  \n",
    "else:\n",
    "    print(\"Not a Teenager\")  \n",
    "\n",
    "# second code \n",
    "aged = int(input())\n",
    "\n",
    "if 13 <= aged <= 19:\n",
    "    print('Person is Teenager')\n",
    "else:\n",
    "    print('Not Teenager')"
   ]
  },
  {
   "cell_type": "markdown",
   "metadata": {},
   "source": [
    "- Step 1: Input the age by using the input() function so user can put any age he wish to \n",
    "- Step 2: Check if age is at least 13.\n",
    "- Step 3: Check if age is at most 19.\n",
    "- Step 4: Print \"Teenager\".\n",
    "- Step 5: Print message that person is not teenager\n"
   ]
  },
  {
   "cell_type": "code",
   "execution_count": 21,
   "metadata": {},
   "outputs": [
    {
     "name": "stdout",
     "output_type": "stream",
     "text": [
      "Acute Angle\n"
     ]
    }
   ],
   "source": [
    "#16. Develop a program that determines the type of angle based on its measure (acute, obtuse, or right).\n",
    "angle = int(input())  \n",
    "\n",
    "if angle < 90:  \n",
    "    print(\"Acute Angle\")  \n",
    "elif angle == 90:  \n",
    "    print(\"Right Angle\")  \n",
    "else:  \n",
    "    print(\"Obtuse Angle\")  # Step 7: Print \"Obtuse\".\n"
   ]
  },
  {
   "cell_type": "markdown",
   "metadata": {},
   "source": [
    "- Step 1: Input the angle in degrees.\n",
    "- Step 2: Check if the angle is less than 90. Print \"Acute\".\n",
    "- Step 3: Check if the angle is equal to 90 print \"Right\".\n",
    "- Step 4: If neither condition is true print \"Obtuse\" angle \n",
    "\n"
   ]
  },
  {
   "cell_type": "code",
   "execution_count": 24,
   "metadata": {},
   "outputs": [
    {
     "name": "stdout",
     "output_type": "stream",
     "text": [
      "No Real Roots\n"
     ]
    }
   ],
   "source": [
    "#17. Write a Python program to calculate the roots of a quadratic equation.\n",
    "from math import sqrt  \n",
    "\n",
    "a, b, c = int(input()),int(input()),int(input())\n",
    "\n",
    "if a != 0:  \n",
    "    discriminant = b**2 - 4*a*c  \n",
    "    if discriminant > 0:  \n",
    "        root1 = (-b + sqrt(discriminant)) / (2*a)\n",
    "        root2 = (-b - sqrt(discriminant)) / (2*a)\n",
    "        print(\"Two Real Roots:\", root1, root2)\n",
    "    elif discriminant == 0:  \n",
    "        root = -b / (2*a)\n",
    "        print(\"One Real Root:\", root)\n",
    "    else:  \n",
    "        print(\"No Real Roots\")  \n",
    "else:\n",
    "    print(\"Not a Quadratic Equation\")  \n"
   ]
  },
  {
   "cell_type": "markdown",
   "metadata": {},
   "source": [
    "- Step 1: Import the square root function.\n",
    "- Step 2: Input coefficients of the quadratic equation.\n",
    "- Step 3: Check if `a` is non-zero.\n",
    "- Step 4: Calculate the discriminant.\n",
    "- Step 5: Check if the discriminant is positive.\n",
    "- Step 6: Check if the discriminant is zero.\n",
    "- Step 7: If the discriminant is negative:\n",
    "- Step 8: Print message.\n",
    "- Step 9: Handle the case where `a = 0`.\n",
    "\n",
    "\n",
    "\n"
   ]
  },
  {
   "cell_type": "code",
   "execution_count": 25,
   "metadata": {},
   "outputs": [
    {
     "name": "stdout",
     "output_type": "stream",
     "text": [
      "Invalid Day\n"
     ]
    }
   ],
   "source": [
    "#18. Implement a program to determine the day of the week based on a user-provided number (1 for Monday, 2 for Tuesday, etc.).\n",
    "day = int(input())  \n",
    "\n",
    "if day == 1:\n",
    "    print(\"Monday\")  \n",
    "elif day == 2:\n",
    "    print(\"Tuesday\")\n",
    "elif day == 3:\n",
    "    print(\"Wednesday\")\n",
    "elif day == 4:\n",
    "    print(\"Thursday\")\n",
    "elif day == 5:\n",
    "    print(\"Friday\")\n",
    "elif day == 6:\n",
    "    print(\"Saturday\")\n",
    "elif day == 7:\n",
    "    print(\"Sunday\")\n",
    "else:\n",
    "    print(\"Invalid Day\")  "
   ]
  },
  {
   "cell_type": "markdown",
   "metadata": {},
   "source": [
    "- Step 1: Input the day number.\n",
    "- Step 2: Print day based on value.\n",
    "- Step 3: Handle invalid input.\n"
   ]
  },
  {
   "cell_type": "code",
   "execution_count": 28,
   "metadata": {},
   "outputs": [
    {
     "name": "stdout",
     "output_type": "stream",
     "text": [
      "Leap Year but Not Divisible by 400\n"
     ]
    }
   ],
   "source": [
    "#19. Create a program that determines if a year is a leap year and also if it is evenly divisible by 400.\n",
    "year = int(input()) \n",
    "\n",
    "if year % 4 == 0:  \n",
    "    if year % 400 == 0:  \n",
    "        print(\"Leap Year and Divisible by 400\")  \n",
    "    else:\n",
    "        print(\"Leap Year but Not Divisible by 400\")  \n",
    "else:\n",
    "    print(\"Not a Leap Year\")  "
   ]
  },
  {
   "cell_type": "markdown",
   "metadata": {},
   "source": [
    "- Step 1: Input the year.\n",
    "- Step 2: Check if the year is divisible by 4.\n",
    "- Step 3: Check if divisible by 400.\n",
    "- Step 4: Print message.\n",
    "- Step 5: Print message.\n",
    "- Step 6: Print message.\n"
   ]
  },
  {
   "cell_type": "code",
   "execution_count": 29,
   "metadata": {},
   "outputs": [
    {
     "name": "stdout",
     "output_type": "stream",
     "text": [
      "Not Prime\n"
     ]
    }
   ],
   "source": [
    "#20. Develop a program that checks if a given number is prime or not using nested if-else statements.\n",
    "num = int(input())\n",
    "\n",
    "if num > 1:  \n",
    "    for i in range(2, int(num**0.5) + 1):  \n",
    "        if num % i == 0:  \n",
    "            print(\"Not Prime\")  \n",
    "            break\n",
    "    else:  \n",
    "        print(\"Prime\")  \n",
    "else:\n",
    "    print(\"Not Prime\")  \n"
   ]
  },
  {
   "cell_type": "markdown",
   "metadata": {},
   "source": [
    "- Step 1: Input the number.\n",
    "- Step 2: Check if the number is greater than 1.\n",
    "- Step 3: Iterate from 2 to √num.\n",
    "- Step 4: Check for factors.\n",
    "- Step 5: Print if a factor is found.\n",
    "- Step 6: Execute if no factors are found.\n",
    "- Step 7: Print \"Prime\".\n",
    "- Step 8: Print for numbers ≤ 1."
   ]
  },
  {
   "cell_type": "markdown",
   "metadata": {},
   "source": [
    "# Elif Statements:\n"
   ]
  },
  {
   "cell_type": "code",
   "execution_count": 30,
   "metadata": {},
   "outputs": [
    {
     "name": "stdout",
     "output_type": "stream",
     "text": [
      "Grade: B\n"
     ]
    }
   ],
   "source": [
    "#21. Write a Python program to assign grades based on different ranges of scores using elif statements.\n",
    "score = 85  # Step 1: Input the score.\n",
    "\n",
    "if score >= 90:  # Step 2: Check if the score is 90 or above.\n",
    "    grade = \"A\"\n",
    "elif score >= 80:  # Step 3: Check if the score is between 80 and 89.\n",
    "    grade = \"B\"\n",
    "elif score >= 70:  # Step 4: Check if the score is between 70 and 79.\n",
    "    grade = \"C\"\n",
    "elif score >= 60:  # Step 5: Check if the score is between 60 and 69.\n",
    "    grade = \"D\"\n",
    "else:  # Step 6: Handle scores below 60.\n",
    "    grade = \"F\"\n",
    "\n",
    "print(\"Grade:\", grade)  # Step 7: Print the assigned grade.\n"
   ]
  },
  {
   "cell_type": "code",
   "execution_count": 31,
   "metadata": {},
   "outputs": [
    {
     "name": "stdout",
     "output_type": "stream",
     "text": [
      "Acute Triangle\n"
     ]
    }
   ],
   "source": [
    "#22. Implement a program to determine the type of a triangle based on its angles.\n",
    "angle1, angle2, angle3 = 60, 60, 60  # Step 1: Input three angles of the triangle.\n",
    "\n",
    "if angle1 + angle2 + angle3 != 180:  # Step 2: Check if the angles form a valid triangle.\n",
    "    print(\"Invalid Triangle\")\n",
    "elif angle1 == 90 or angle2 == 90 or angle3 == 90:  # Step 3: Check for a right triangle.\n",
    "    print(\"Right Triangle\")\n",
    "elif angle1 > 90 or angle2 > 90 or angle3 > 90:  # Step 4: Check for an obtuse triangle.\n",
    "    print(\"Obtuse Triangle\")\n",
    "else:  # Step 5: If neither condition is true:\n",
    "    print(\"Acute Triangle\")  # Step 6: Print \"Acute Triangle\".\n"
   ]
  },
  {
   "cell_type": "code",
   "execution_count": 32,
   "metadata": {},
   "outputs": [
    {
     "name": "stdout",
     "output_type": "stream",
     "text": [
      "BMI Category: Normal weight\n"
     ]
    }
   ],
   "source": [
    "#23. Develop a program to categorize a given person's BMI into underweight, normal, overweight, or obese using elif statements.\n",
    "bmi = 24.5  # Step 1: Input the BMI value.\n",
    "\n",
    "if bmi < 18.5:  # Step 2: Check if BMI is less than 18.5.\n",
    "    category = \"Underweight\"\n",
    "elif bmi < 24.9:  # Step 3: Check if BMI is between 18.5 and 24.9.\n",
    "    category = \"Normal weight\"\n",
    "elif bmi < 29.9:  # Step 4: Check if BMI is between 25 and 29.9.\n",
    "    category = \"Overweight\"\n",
    "else:  # Step 5: Handle BMI values 30 and above.\n",
    "    category = \"Obese\"\n",
    "\n",
    "print(\"BMI Category:\", category)  # Step 6: Print the BMI category.\n"
   ]
  },
  {
   "cell_type": "code",
   "execution_count": 34,
   "metadata": {},
   "outputs": [
    {
     "name": "stdout",
     "output_type": "stream",
     "text": [
      "Negative\n"
     ]
    }
   ],
   "source": [
    "#24. Create a program that determines whether a given number is positive, negative, or zero using elif statements.\n",
    "num = -5  # Step 1: Input the number.\n",
    "\n",
    "if num > 0:  # Step 2: Check if the number is positive.\n",
    "    print(\"Positive\")\n",
    "elif num < 0:  # Step 3: Check if the number is negative.\n",
    "    print(\"Negative\")\n",
    "else:  # Step 4: Handle the case when the number is zero.\n",
    "    print(\"Zero\")\n"
   ]
  },
  {
   "cell_type": "code",
   "execution_count": 35,
   "metadata": {},
   "outputs": [
    {
     "name": "stdout",
     "output_type": "stream",
     "text": [
      "Special Character\n"
     ]
    }
   ],
   "source": [
    "#25. Write a Python script to determine the type of a character (uppercase, lowercase, or special) using elif statements.\n",
    "char = '#'  # Step 1: Input the character.\n",
    "\n",
    "if char.isupper():  # Step 2: Check if the character is uppercase.\n",
    "    print(\"Uppercase Letter\")\n",
    "elif char.islower():  # Step 3: Check if the character is lowercase.\n",
    "    print(\"Lowercase Letter\")\n",
    "else:  # Step 4: Handle non-alphabetic characters.\n",
    "    print(\"Special Character\")\n"
   ]
  },
  {
   "cell_type": "code",
   "execution_count": 37,
   "metadata": {},
   "outputs": [
    {
     "name": "stdout",
     "output_type": "stream",
     "text": [
      "Discounted Price: 960.0\n"
     ]
    }
   ],
   "source": [
    "\n",
    "#26. Implement a program to calculate the discounted price based on different purchase amounts using elif statements.\n",
    "amount = 1200  # Step 1: Input the purchase amount.\n",
    "\n",
    "if amount > 1000:  # Step 2: Check if amount is greater than 1000.\n",
    "    discount = 0.2\n",
    "elif amount > 500:  # Step 3: Check if amount is between 501 and 1000.\n",
    "    discount = 0.1\n",
    "else:  # Step 4: Handle amounts less than or equal to 500.\n",
    "    discount = 0.05\n",
    "\n",
    "discounted_price = amount * (1 - discount)  # Step 5: Calculate the discounted price.\n",
    "print(\"Discounted Price:\", discounted_price)  # Step 6: Print the price.\n"
   ]
  },
  {
   "cell_type": "code",
   "execution_count": 38,
   "metadata": {},
   "outputs": [
    {
     "name": "stdout",
     "output_type": "stream",
     "text": [
      "Electricity Bill: 875.0\n"
     ]
    }
   ],
   "source": [
    "\n",
    "#27. Develop a program to calculate the electricity bill based on different consumption slabs using elif statements.\n",
    "units = 250  # Step 1: Input the number of units consumed.\n",
    "\n",
    "if units <= 100:  # Step 2: Check if units are less than or equal to 100.\n",
    "    rate = 1.5\n",
    "elif units <= 200:  # Step 3: Check if units are between 101 and 200.\n",
    "    rate = 2.5\n",
    "elif units <= 300:  # Step 4: Check if units are between 201 and 300.\n",
    "    rate = 3.5\n",
    "else:  # Step 5: Handle units above 300.\n",
    "    rate = 4.5\n",
    "\n",
    "bill = units * rate  # Step 6: Calculate the bill.\n",
    "print(\"Electricity Bill:\", bill)  # Step 7: Print the bill.\n"
   ]
  },
  {
   "cell_type": "code",
   "execution_count": 39,
   "metadata": {},
   "outputs": [
    {
     "name": "stdout",
     "output_type": "stream",
     "text": [
      "Square\n"
     ]
    }
   ],
   "source": [
    "#28. Create a program to determine the type of quadrilateral based on its angles and sides using elif statements.\n",
    "sides = [10, 10, 10, 10]  # Step 1: Input the sides.\n",
    "angles = [90, 90, 90, 90]  # Step 2: Input the angles.\n",
    "\n",
    "if len(set(sides)) == 1 and len(set(angles)) == 1:  # Step 3: Check if all sides and angles are equal.\n",
    "    print(\"Square\")\n",
    "elif len(set(sides)) == 2 and len(set(angles)) == 1:  # Step 4: Check if opposite sides are equal.\n",
    "    print(\"Rectangle\")\n",
    "else:  # Step 5: Handle other cases.\n",
    "    print(\"Other Quadrilateral\")\n"
   ]
  },
  {
   "cell_type": "code",
   "execution_count": 40,
   "metadata": {},
   "outputs": [
    {
     "name": "stdout",
     "output_type": "stream",
     "text": [
      "Season: Winter\n"
     ]
    }
   ],
   "source": [
    "#29. Write a Python script to determine the season based on a user-provided month using elif statements.\n",
    "month = \"December\"  # Step 1: Input the month.\n",
    "\n",
    "if month in [\"December\", \"January\", \"February\"]:  # Step 2: Check if month is in winter.\n",
    "    season = \"Winter\"\n",
    "elif month in [\"March\", \"April\", \"May\"]:  # Step 3: Check if month is in spring.\n",
    "    season = \"Spring\"\n",
    "elif month in [\"June\", \"July\", \"August\"]:  # Step 4: Check if month is in summer.\n",
    "    season = \"Summer\"\n",
    "else:  # Step 5: Handle autumn months.\n",
    "    season = \"Autumn\"\n",
    "\n",
    "print(\"Season:\", season)  # Step 6: Print the season.\n"
   ]
  },
  {
   "cell_type": "code",
   "execution_count": 41,
   "metadata": {},
   "outputs": [
    {
     "name": "stdout",
     "output_type": "stream",
     "text": [
      "Year Type: Leap Year\n",
      "Days in Month: 29\n"
     ]
    }
   ],
   "source": [
    "#30. Implement a program to determine the type of a year (leap or common) and month (30 or 31 days) using elif statements\n",
    "year = 2024  # Step 1: Input the year.\n",
    "month = \"February\"  # Step 2: Input the month.\n",
    "\n",
    "if (year % 4 == 0 and year % 100 != 0) or (year % 400 == 0):  \n",
    "    # Step 3: Check if the year is a leap year.\n",
    "    year_type = \"Leap Year\"\n",
    "else:\n",
    "    year_type = \"Common Year\"\n",
    "\n",
    "if month in [\"April\", \"June\", \"September\", \"November\"]:  \n",
    "    # Step 4: Check for months with 30 days.\n",
    "    days = 30\n",
    "elif month == \"February\":  # Step 5: Handle February based on year type.\n",
    "    days = 29 if year_type == \"Leap Year\" else 28\n",
    "else:  # Step 6: Handle months with 31 days.\n",
    "    days = 31\n",
    "\n",
    "print(\"Year Type:\", year_type)  # Step 7: Print year type.\n",
    "print(\"Days in Month:\", days)  # Step 8: Print days in month.\n"
   ]
  },
  {
   "cell_type": "markdown",
   "metadata": {},
   "source": [
    "# Basic Level:"
   ]
  },
  {
   "cell_type": "code",
   "execution_count": 42,
   "metadata": {},
   "outputs": [
    {
     "name": "stdout",
     "output_type": "stream",
     "text": [
      "Negative\n"
     ]
    }
   ],
   "source": [
    "\n",
    "#1. Write a Python program that checks if a given number is positive, negative, or zero.\n",
    "num = -10  # Step 1: Input the number.\n",
    "\n",
    "if num > 0:  # Step 2: Check if the number is positive.\n",
    "    print(\"Positive\")\n",
    "elif num < 0:  # Step 3: Check if the number is negative.\n",
    "    print(\"Negative\")\n",
    "else:  # Step 4: Handle the case when the number is zero.\n",
    "    print(\"Zero\")\n"
   ]
  },
  {
   "cell_type": "code",
   "execution_count": 43,
   "metadata": {},
   "outputs": [
    {
     "name": "stdout",
     "output_type": "stream",
     "text": [
      "Not eligible to vote\n"
     ]
    }
   ],
   "source": [
    "#2. Create a program to determine if a person is eligible to vote based on their age.\n",
    "age = 17  # Step 1: Input the person's age.\n",
    "\n",
    "if age >= 18:  # Step 2: Check if the age is 18 or older.\n",
    "    print(\"Eligible to vote\")\n",
    "else:  # Step 3: Handle ages below 18.\n",
    "    print(\"Not eligible to vote\")\n"
   ]
  },
  {
   "cell_type": "code",
   "execution_count": 44,
   "metadata": {},
   "outputs": [
    {
     "name": "stdout",
     "output_type": "stream",
     "text": [
      "Maximum: 12\n"
     ]
    }
   ],
   "source": [
    "#3. Write a program to find the maximum of two given numbers using conditional statements.\n",
    "a, b = 12, 8  # Step 1: Input the two numbers.\n",
    "\n",
    "if a > b:  # Step 2: Compare the two numbers.\n",
    "    max_num = a  # Step 3: Assign `a` as the maximum if it's larger.\n",
    "else:\n",
    "    max_num = b  # Step 4: Assign `b` as the maximum otherwise.\n",
    "\n",
    "print(\"Maximum:\", max_num)  # Step 5: Print the maximum number.\n"
   ]
  },
  {
   "cell_type": "code",
   "execution_count": 45,
   "metadata": {},
   "outputs": [
    {
     "name": "stdout",
     "output_type": "stream",
     "text": [
      "Grade: B\n"
     ]
    }
   ],
   "source": [
    "#4. Develop a program that calculates the grade of a student based on their exam score.\n",
    "score = 88  # Step 1: Input the exam score.\n",
    "\n",
    "if score >= 90:  # Step 2: Check for grade 'A'.\n",
    "    grade = \"A\"\n",
    "elif score >= 80:  # Step 3: Check for grade 'B'.\n",
    "    grade = \"B\"\n",
    "elif score >= 70:  # Step 4: Check for grade 'C'.\n",
    "    grade = \"C\"\n",
    "elif score >= 60:  # Step 5: Check for grade 'D'.\n",
    "    grade = \"D\"\n",
    "else:  # Step 6: Handle scores below 60.\n",
    "    grade = \"F\"\n",
    "\n",
    "print(\"Grade:\", grade)  # Step 7: Print the grade.\n"
   ]
  },
  {
   "cell_type": "code",
   "execution_count": 46,
   "metadata": {},
   "outputs": [
    {
     "name": "stdout",
     "output_type": "stream",
     "text": [
      "Leap Year\n"
     ]
    }
   ],
   "source": [
    "#5. Create a program that checks if a year is a leap year or not.\n",
    "year = 2024  # Step 1: Input the year.\n",
    "\n",
    "if (year % 4 == 0 and year % 100 != 0) or (year % 400 == 0):  \n",
    "    # Step 2: Check if the year is divisible by 4 but not 100, or divisible by 400.\n",
    "    print(\"Leap Year\")\n",
    "else:  # Step 3: Handle non-leap years.\n",
    "    print(\"Not a Leap Year\")\n",
    "\n",
    "\n"
   ]
  },
  {
   "cell_type": "code",
   "execution_count": 47,
   "metadata": {},
   "outputs": [
    {
     "name": "stdout",
     "output_type": "stream",
     "text": [
      "Isosceles Triangle\n"
     ]
    }
   ],
   "source": [
    "#6. Write a program to classify a triangle based on its sides' lengths.\n",
    "a, b, c = 5, 5, 8  # Step 1: Input the lengths of the triangle's sides.\n",
    "\n",
    "if a == b == c:  # Step 2: Check if all sides are equal.\n",
    "    print(\"Equilateral Triangle\")\n",
    "elif a == b or b == c or a == c:  # Step 3: Check if any two sides are equal.\n",
    "    print(\"Isosceles Triangle\")\n",
    "else:  # Step 4: Handle the case when all sides are different.\n",
    "    print(\"Scalene Triangle\")\n"
   ]
  },
  {
   "cell_type": "code",
   "execution_count": 48,
   "metadata": {},
   "outputs": [
    {
     "name": "stdout",
     "output_type": "stream",
     "text": [
      "Largest Number: 25\n"
     ]
    }
   ],
   "source": [
    "#7. Build a program that determines the largest of three given numbers.\n",
    "x, y, z = 15, 25, 20  # Step 1: Input three numbers.\n",
    "\n",
    "if x >= y and x >= z:  # Step 2: Check if `x` is the largest.\n",
    "    largest = x\n",
    "elif y >= x and y >= z:  # Step 3: Check if `y` is the largest.\n",
    "    largest = y\n",
    "else:  # Step 4: If neither `x` nor `y` is the largest, `z` must be.\n",
    "    largest = z\n",
    "\n",
    "print(\"Largest Number:\", largest)  # Step 5: Print the largest number.\n"
   ]
  },
  {
   "cell_type": "code",
   "execution_count": 49,
   "metadata": {},
   "outputs": [
    {
     "name": "stdout",
     "output_type": "stream",
     "text": [
      "Vowel\n"
     ]
    }
   ],
   "source": [
    "#8. Develop a program that checks whether a character is a vowel or a consonant.\n",
    "char = 'e'  # Step 1: Input the character.\n",
    "\n",
    "if char.lower() in 'aeiou':  # Step 2: Check if the character is a vowel.\n",
    "    print(\"Vowel\")\n",
    "else:  # Step 3: Handle consonants.\n",
    "    print(\"Consonant\")\n"
   ]
  },
  {
   "cell_type": "code",
   "execution_count": 50,
   "metadata": {},
   "outputs": [
    {
     "name": "stdout",
     "output_type": "stream",
     "text": [
      "Final Price: 675.0\n"
     ]
    }
   ],
   "source": [
    "#9. Create a program to calculate the total cost of a shopping cart based on discounts.\n",
    "total_amount = 750  # Step 1: Input the total amount.\n",
    "\n",
    "if total_amount > 1000:  # Step 2: Check for discount eligibility.\n",
    "    discount = 0.2  # 20% discount.\n",
    "elif total_amount > 500:  # Step 3: Check for a smaller discount.\n",
    "    discount = 0.1  # 10% discount.\n",
    "else:  # Step 4: Handle cases with no discount.\n",
    "    discount = 0\n",
    "\n",
    "final_price = total_amount * (1 - discount)  # Step 5: Calculate the final price.\n",
    "print(\"Final Price:\", final_price)  # Step 6: Print the final price.\n"
   ]
  },
  {
   "cell_type": "code",
   "execution_count": 51,
   "metadata": {},
   "outputs": [
    {
     "name": "stdout",
     "output_type": "stream",
     "text": [
      "Odd\n"
     ]
    }
   ],
   "source": [
    "\n",
    "#10. Write a program that checks if a given number is even or odd\n",
    "num = 13  # Step 1: Input the number.\n",
    "\n",
    "if num % 2 == 0:  # Step 2: Check if the number is divisible by 2.\n",
    "    print(\"Even\")\n",
    "else:  # Step 3: Handle numbers that are not divisible by 2.\n",
    "    print(\"Odd\")\n"
   ]
  },
  {
   "cell_type": "markdown",
   "metadata": {},
   "source": [
    "# Intermediate Level:"
   ]
  },
  {
   "cell_type": "code",
   "execution_count": null,
   "metadata": {},
   "outputs": [
    {
     "name": "stdout",
     "output_type": "stream",
     "text": [
      "Roots are real and distinct: 2.0 1.0\n"
     ]
    }
   ],
   "source": [
    "\n",
    "#11. Write a program that calculates the roots of a quadratic equation .\n",
    "import math\n",
    "\n",
    "a, b, c = 1, -3, 2  # Step 1: Input coefficients of the quadratic equation.\n",
    "\n",
    "discriminant = b**2 - 4*a*c  # Step 2: Calculate the discriminant.\n",
    "\n",
    "if discriminant > 0:  # Step 3: Check if roots are real and distinct.\n",
    "    root1 = (-b + math.sqrt(discriminant)) / (2 * a)\n",
    "    root2 = (-b - math.sqrt(discriminant)) / (2 * a)\n",
    "    print(\"Roots are real and distinct:\", root1, root2)\n",
    "elif discriminant == 0:  # Step 4: Check if roots are real and equal.\n",
    "    root = -b / (2 * a)\n",
    "    print(\"Roots are real and equal:\", root)\n",
    "else:  # Step 5: Handle complex roots.\n",
    "    real_part = -b / (2 * a)\n",
    "    imaginary_part = math.sqrt(-discriminant) / (2 * a)\n",
    "    print(\"Roots are complex:\", f\"{real_part} ± {imaginary_part}i\")\n"
   ]
  },
  {
   "cell_type": "code",
   "execution_count": 53,
   "metadata": {},
   "outputs": [
    {
     "name": "stdout",
     "output_type": "stream",
     "text": [
      "Day of the Week: Friday\n"
     ]
    }
   ],
   "source": [
    "#12. Create a program that determines the day of the week based on the day number (1-7).\n",
    "day_number = 5  # Step 1: Input the day number (1-7).\n",
    "\n",
    "if day_number == 1:  # Step 2: Check if it's Monday.\n",
    "    day = \"Monday\"\n",
    "elif day_number == 2:\n",
    "    day = \"Tuesday\"\n",
    "elif day_number == 3:\n",
    "    day = \"Wednesday\"\n",
    "elif day_number == 4:\n",
    "    day = \"Thursday\"\n",
    "elif day_number == 5:\n",
    "    day = \"Friday\"\n",
    "elif day_number == 6:\n",
    "    day = \"Saturday\"\n",
    "elif day_number == 7:\n",
    "    day = \"Sunday\"\n",
    "else:  # Step 3: Handle invalid input.\n",
    "    day = \"Invalid day number\"\n",
    "\n",
    "print(\"Day of the Week:\", day)  # Step 4: Print the day of the week.\n"
   ]
  },
  {
   "cell_type": "code",
   "execution_count": 54,
   "metadata": {},
   "outputs": [
    {
     "name": "stdout",
     "output_type": "stream",
     "text": [
      "Factorial: 120\n"
     ]
    }
   ],
   "source": [
    "#13. Develop a program that calculates the factorial of a given number using recursion.\n",
    "def factorial(n):  # Step 1: Define the recursive function.\n",
    "    if n == 0 or n == 1:  # Step 2: Base case.\n",
    "        return 1\n",
    "    return n * factorial(n - 1)  # Step 3: Recursive call.\n",
    "\n",
    "num = 5  # Step 4: Input the number.\n",
    "print(\"Factorial:\", factorial(num))  # Step 5: Print the factorial.\n"
   ]
  },
  {
   "cell_type": "code",
   "execution_count": 55,
   "metadata": {},
   "outputs": [
    {
     "name": "stdout",
     "output_type": "stream",
     "text": [
      "Largest Number: 25\n"
     ]
    }
   ],
   "source": [
    "#14. Write a program to find the largest among three numbers without using the `max()` function.\n",
    "x, y, z = 10, 25, 15  # Step 1: Input three numbers.\n",
    "\n",
    "if x > y and x > z:  # Step 2: Compare `x` with `y` and `z`.\n",
    "    largest = x\n",
    "elif y > z:  # Step 3: Compare `y` with `z`.\n",
    "    largest = y\n",
    "else:  # Step 4: `z` is the largest if other conditions fail.\n",
    "    largest = z\n",
    "\n",
    "print(\"Largest Number:\", largest)  # Step 5: Print the largest number.\n"
   ]
  },
  {
   "cell_type": "code",
   "execution_count": 56,
   "metadata": {},
   "outputs": [
    {
     "name": "stdout",
     "output_type": "stream",
     "text": [
      "1. Check Balance\n",
      "2. Deposit\n",
      "3. Withdraw\n",
      "4. Exit\n",
      "Balance: 1000\n"
     ]
    }
   ],
   "source": [
    "#15. Create a program that simulates a basic ATM transaction menu.\n",
    "balance = 1000  # Step 1: Initialize account balance.\n",
    "\n",
    "print(\"1. Check Balance\\n2. Deposit\\n3. Withdraw\\n4. Exit\")  # Step 2: Display menu.\n",
    "choice = int(input(\"Choose an option: \"))  # Step 3: Input user choice.\n",
    "\n",
    "if choice == 1:  # Step 4: Check balance.\n",
    "    print(\"Balance:\", balance)\n",
    "elif choice == 2:  # Step 5: Deposit.\n",
    "    amount = int(input(\"Enter deposit amount: \"))\n",
    "    balance += amount\n",
    "    print(\"New Balance:\", balance)\n",
    "elif choice == 3:  # Step 6: Withdraw.\n",
    "    amount = int(input(\"Enter withdrawal amount: \"))\n",
    "    if amount > balance:\n",
    "        print(\"Insufficient balance!\")\n",
    "    else:\n",
    "        balance -= amount\n",
    "        print(\"New Balance:\", balance)\n",
    "elif choice == 4:  # Step 7: Exit.\n",
    "    print(\"Exiting...\")\n",
    "else:  # Step 8: Handle invalid input.\n",
    "    print(\"Invalid option\")\n"
   ]
  },
  {
   "cell_type": "code",
   "execution_count": 57,
   "metadata": {},
   "outputs": [
    {
     "name": "stdout",
     "output_type": "stream",
     "text": [
      "Palindrome\n"
     ]
    }
   ],
   "source": [
    "#16. Build a program that checks if a given string is a palindrome or not.\n",
    "text = \"radar\"  # Step 1: Input the string.\n",
    "\n",
    "if text == text[::-1]:  # Step 2: Compare the string with its reverse.\n",
    "    print(\"Palindrome\")\n",
    "else:  # Step 3: Handle non-palindromes.\n",
    "    print(\"Not a Palindrome\")\n"
   ]
  },
  {
   "cell_type": "code",
   "execution_count": 58,
   "metadata": {},
   "outputs": [
    {
     "name": "stdout",
     "output_type": "stream",
     "text": [
      "Average: 30.0\n"
     ]
    }
   ],
   "source": [
    "#17. Write a program that calculates the average of a list of numbers, excluding the smallest and largest values.\n",
    "numbers = [10, 20, 30, 40, 50]  # Step 1: Input the list.\n",
    "\n",
    "numbers.sort()  # Step 2: Sort the list.\n",
    "trimmed = numbers[1:-1]  # Step 3: Exclude the smallest and largest values.\n",
    "\n",
    "average = sum(trimmed) / len(trimmed)  # Step 4: Calculate the average.\n",
    "print(\"Average:\", average)  # Step 5: Print the average.\n"
   ]
  },
  {
   "cell_type": "code",
   "execution_count": 59,
   "metadata": {},
   "outputs": [
    {
     "name": "stdout",
     "output_type": "stream",
     "text": [
      "Fahrenheit: 77.0\n"
     ]
    }
   ],
   "source": [
    "#18. Develop a program that converts a given temperature from Celsius to Fahrenheit.\n",
    "celsius = 25  # Step 1: Input the temperature in Celsius.\n",
    "\n",
    "fahrenheit = (celsius * 9/5) + 32  # Step 2: Convert to Fahrenheit.\n",
    "print(\"Fahrenheit:\", fahrenheit)  # Step 3: Print the result.\n"
   ]
  },
  {
   "cell_type": "code",
   "execution_count": 61,
   "metadata": {},
   "outputs": [
    {
     "name": "stdout",
     "output_type": "stream",
     "text": [
      "Result: 5\n"
     ]
    }
   ],
   "source": [
    "#19. Create a program that simulates a basic calculator for addition, subtraction, multiplication, and division.\n",
    "a, b = 10, 5  # Step 1: Input two numbers.\n",
    "\n",
    "operation = input(\"Enter operation (+, -, *, /): \")  # Step 2: Input operation.\n",
    "\n",
    "if operation == '+':  # Step 3: Perform addition.\n",
    "    result = a + b\n",
    "elif operation == '-':  # Step 4: Perform subtraction.\n",
    "    result = a - b\n",
    "elif operation == '*':  # Step 5: Perform multiplication.\n",
    "    result = a * b\n",
    "elif operation == '/':  # Step 6: Perform division.\n",
    "    if b == 0:  # Step 7: Check for division by zero.\n",
    "        result = \"Error! Division by zero.\"\n",
    "    else:\n",
    "        result = a / b\n",
    "else:  # Step 8: Handle invalid operations.\n",
    "    result = \"Invalid operation\"\n",
    "\n",
    "print(\"Result:\", result)  # Step 9: Print the result.\n"
   ]
  },
  {
   "cell_type": "code",
   "execution_count": 62,
   "metadata": {},
   "outputs": [
    {
     "name": "stdout",
     "output_type": "stream",
     "text": [
      "Roots: (1-0j) (3+3.700743415417188e-17j) (2-7.401486830834377e-17j)\n"
     ]
    }
   ],
   "source": [
    "\n",
    "#20. Write a program that determines the roots of a cubic equation using the Cardano formula.\n",
    "import cmath\n",
    "\n",
    "a, b, c, d = 1, -6, 11, -6  # Step 1: Input coefficients.\n",
    "\n",
    "# Step 2: Calculate helper values for the Cardano formula.\n",
    "delta0 = b**2 - 3*a*c\n",
    "delta1 = 2*b**3 - 9*a*b*c + 27*a**2*d\n",
    "\n",
    "C = ((delta1 + cmath.sqrt(delta1**2 - 4*delta0**3)) / 2)**(1/3)\n",
    "\n",
    "# Step 3: Calculate roots.\n",
    "xi = -0.5 + 0.5j * cmath.sqrt(3)  # Complex cube root of unity.\n",
    "root1 = -1/(3*a) * (b + C + delta0/C)\n",
    "root2 = -1/(3*a) * (b + xi*C + delta0/(xi*C))\n",
    "root3 = -1/(3*a) * (b + xi**2*C + delta0/(xi**2*C))\n",
    "\n",
    "print(\"Roots:\", root1, root2, root3)  # Step 4: Print roots.\n"
   ]
  },
  {
   "cell_type": "markdown",
   "metadata": {},
   "source": [
    "# Advanced Level:"
   ]
  },
  {
   "cell_type": "code",
   "execution_count": null,
   "metadata": {},
   "outputs": [
    {
     "name": "stdout",
     "output_type": "stream",
     "text": [
      "Income Tax: 10000.0\n"
     ]
    }
   ],
   "source": [
    "\n",
    "#21. Create a program that calculates the income tax based on the user's income and tax brackets.\n",
    "income = 75000  # Step 1: Input the user's income.\n",
    "\n",
    "# Step 2: Define tax brackets and rates.\n",
    "if income <= 10000:\n",
    "    tax = 0\n",
    "elif income <= 40000:\n",
    "    tax = 0.1 * (income - 10000)\n",
    "elif income <= 80000:\n",
    "    tax = 0.2 * (income - 40000) + 3000\n",
    "else:\n",
    "    tax = 0.3 * (income - 80000) + 11000\n",
    "\n",
    "print(\"Income Tax:\", tax)  # Step 3: Output the calculated tax.\n"
   ]
  },
  {
   "cell_type": "code",
   "execution_count": 67,
   "metadata": {},
   "outputs": [
    {
     "name": "stdout",
     "output_type": "stream",
     "text": [
      "Computer chose rock. You win!\n"
     ]
    }
   ],
   "source": [
    "#22. Write a program that simulates a rock-paper-scissors game against the computer.\n",
    "import random\n",
    "\n",
    "# Step 1: Define the options and get user input.\n",
    "choices = [\"rock\", \"paper\", \"scissors\"]\n",
    "user_choice = input(\"Enter rock, paper, or scissors: \").lower()\n",
    "computer_choice = random.choice(choices)\n",
    "\n",
    "# Step 2: Determine the winner.\n",
    "if user_choice == computer_choice:\n",
    "    result = \"It's a tie!\"\n",
    "elif (user_choice == \"rock\" and computer_choice == \"scissors\") or \\\n",
    "     (user_choice == \"paper\" and computer_choice == \"rock\") or \\\n",
    "     (user_choice == \"scissors\" and computer_choice == \"paper\"):\n",
    "    result = \"You win!\"\n",
    "else:\n",
    "    result = \"You lose!\"\n",
    "\n",
    "# Step 3: Print the result.\n",
    "print(f\"Computer chose {computer_choice}. {result}\")\n"
   ]
  },
  {
   "cell_type": "code",
   "execution_count": 69,
   "metadata": {},
   "outputs": [
    {
     "name": "stdout",
     "output_type": "stream",
     "text": [
      "Generated Password: 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\n"
     ]
    }
   ],
   "source": [
    "#23. Develop a program that generates a random password based on user preferences (length, complexity).\n",
    "import random\n",
    "import string\n",
    "\n",
    "# Step 1: Get user preferences.\n",
    "length = int(input(\"Enter password length: \"))\n",
    "use_special = input(\"Include special characters? (yes/no): \").lower() == 'yes'\n",
    "\n",
    "# Step 2: Define character pools.\n",
    "characters = string.ascii_letters + string.digits\n",
    "if use_special:\n",
    "    characters += string.punctuation\n",
    "\n",
    "# Step 3: Generate password.\n",
    "password = ''.join(random.choices(characters, k=length))\n",
    "\n",
    "print(\"Generated Password:\", password)  # Step 4: Output the password.\n"
   ]
  },
  {
   "cell_type": "code",
   "execution_count": 71,
   "metadata": {},
   "outputs": [
    {
     "name": "stdout",
     "output_type": "stream",
     "text": [
      "You wake up in a dark forest. You see a path and a cave.\n",
      "You enter the cave and see a sleeping dragon.\n",
      "You sneak past and find an exit. You survive!\n"
     ]
    }
   ],
   "source": [
    "#24. Create a program that implements a simple text-based adventure game with branching scenarios.\n",
    "# Step 1: Define the story and options.\n",
    "print(\"You wake up in a dark forest. You see a path and a cave.\")\n",
    "choice1 = input(\"Do you take the path or enter the cave? (path/cave): \").lower()\n",
    "\n",
    "if choice1 == \"path\":\n",
    "    print(\"You walk down the path and find a treasure chest.\")\n",
    "    choice2 = input(\"Do you open it or leave it? (open/leave): \").lower()\n",
    "    if choice2 == \"open\":\n",
    "        print(\"You found gold! You win!\")\n",
    "    else:\n",
    "        print(\"You walk away. The adventure ends.\")\n",
    "elif choice1 == \"cave\":\n",
    "    print(\"You enter the cave and see a sleeping dragon.\")\n",
    "    choice2 = input(\"Do you sneak past or attack? (sneak/attack): \").lower()\n",
    "    if choice2 == \"sneak\":\n",
    "        print(\"You sneak past and find an exit. You survive!\")\n",
    "    else:\n",
    "        print(\"The dragon wakes up and eats you. Game over.\")\n",
    "else:\n",
    "    print(\"Invalid choice. Game over.\")\n"
   ]
  },
  {
   "cell_type": "code",
   "execution_count": 72,
   "metadata": {},
   "outputs": [
    {
     "name": "stdout",
     "output_type": "stream",
     "text": [
      "Solution: 2.0\n"
     ]
    }
   ],
   "source": [
    "#25. Build a program that solves a linear equation  for x, considering different cases.\n",
    "a, b = 5, -10  # Step 1: Input coefficients of the equation `ax + b = 0`.\n",
    "\n",
    "if a == 0:  # Step 2: Check if `a` is zero.\n",
    "    if b == 0:\n",
    "        solution = \"Infinite solutions\"  # Step 3: Handle special case.\n",
    "    else:\n",
    "        solution = \"No solution\"  # Step 4: Handle no solution case.\n",
    "else:\n",
    "    solution = -b / a  # Step 5: Solve for `x`.\n",
    "\n",
    "print(\"Solution:\", solution)  # Step 6: Output the solution.\n"
   ]
  },
  {
   "cell_type": "code",
   "execution_count": 76,
   "metadata": {},
   "outputs": [
    {
     "name": "stdout",
     "output_type": "stream",
     "text": [
      "What is the capital of France?\n",
      "1. Paris\n",
      "2. Rome\n",
      "3. Berlin\n",
      "Correct!\n",
      "What is 5 + 7?\n",
      "1. 12\n",
      "2. 10\n",
      "3. 14\n",
      "Correct!\n",
      "Your final score: 2/2\n"
     ]
    }
   ],
   "source": [
    "#26. Write a program that simulates a basic quiz game with multiple-choice questions and scoring.\n",
    "questions = [  # Step 1: Define questions and answers.\n",
    "    {\"q\": \"What is the capital of France?\", \"options\": [\"Paris\", \"Rome\", \"Berlin\"], \"a\": \"Paris\"},\n",
    "    {\"q\": \"What is 5 + 7?\", \"options\": [\"12\", \"10\", \"14\"], \"a\": \"12\"},\n",
    "]\n",
    "\n",
    "score = 0  # Step 2: Initialize the score.\n",
    "\n",
    "# Step 3: Loop through questions.\n",
    "for q in questions:\n",
    "    print(q[\"q\"])\n",
    "    for i, option in enumerate(q[\"options\"], 1):\n",
    "        print(f\"{i}. {option}\")\n",
    "    answer = input(\"Choose the correct option: \")\n",
    "    if q[\"options\"][int(answer) - 1] == q[\"a\"]:\n",
    "        print(\"Correct!\")\n",
    "        score += 1\n",
    "    else:\n",
    "        print(\"Wrong!\")\n",
    "\n",
    "print(f\"Your final score: {score}/{len(questions)}\")  # Step 4: Output the score.\n"
   ]
  },
  {
   "cell_type": "code",
   "execution_count": 77,
   "metadata": {},
   "outputs": [
    {
     "name": "stdout",
     "output_type": "stream",
     "text": [
      "Not a Prime Year\n"
     ]
    }
   ],
   "source": [
    "#27. Develop a program that determines whether a given year is a prime number or not.\n",
    "year = 2023  # Step 1: Input the year.\n",
    "\n",
    "if year > 1:\n",
    "    for i in range(2, int(year**0.5) + 1):  # Step 2: Check divisors up to √year.\n",
    "        if year % i == 0:\n",
    "            print(\"Not a Prime Year\")  # Step 3: Print if divisible.\n",
    "            break\n",
    "    else:\n",
    "        print(\"Prime Year\")  # Step 4: Print if prime.\n",
    "else:\n",
    "    print(\"Not a Prime Year\")  # Step 5: Handle non-prime cases.\n"
   ]
  },
  {
   "cell_type": "code",
   "execution_count": 78,
   "metadata": {},
   "outputs": [
    {
     "name": "stdout",
     "output_type": "stream",
     "text": [
      "Sorted Numbers: 10 15 20\n"
     ]
    }
   ],
   "source": [
    "#28. Create a program that sorts three numbers in ascending order using conditional statements.\n",
    "x, y, z = 15, 10, 20  # Step 1: Input three numbers.\n",
    "\n",
    "if x > y:\n",
    "    x, y = y, x  # Step 2: Swap if `x` is greater than `y`.\n",
    "if y > z:\n",
    "    y, z = z, y  # Step 3: Swap if `y` is greater than `z`.\n",
    "if x > y:\n",
    "    x, y = y, x  # Step 4: Recheck `x` and `y`.\n",
    "\n",
    "print(\"Sorted Numbers:\", x, y, z)  # Step 5: Output sorted numbers.\n"
   ]
  },
  {
   "cell_type": "code",
   "execution_count": 79,
   "metadata": {},
   "outputs": [
    {
     "name": "stdout",
     "output_type": "stream",
     "text": [
      "Complex implementation, typically requires advanced libraries.\n"
     ]
    }
   ],
   "source": [
    "#29. Build a program that determines the roots of a quartic equation using numerical methods.\n",
    "# Step 1: Input coefficients and use numerical methods (e.g., Newton-Raphson).\n",
    "print(\"Complex implementation, typically requires advanced libraries.\")\n"
   ]
  },
  {
   "cell_type": "code",
   "execution_count": 80,
   "metadata": {},
   "outputs": [
    {
     "name": "stdout",
     "output_type": "stream",
     "text": [
      "BMI: 22.86. Normal weight. Maintain your lifestyle.\n"
     ]
    }
   ],
   "source": [
    "#30. Write a program that calculates the BMI (Body Mass Index) and provides health recommendations based on the user's input\n",
    "weight = 70  # Step 1: Input weight in kg.\n",
    "height = 1.75  # Step 2: Input height in meters.\n",
    "\n",
    "bmi = weight / (height**2)  # Step 3: Calculate BMI.\n",
    "\n",
    "# Step 4: Provide health recommendations.\n",
    "if bmi < 18.5:\n",
    "    recommendation = \"Underweight. Consider a balanced diet.\"\n",
    "elif bmi < 24.9:\n",
    "    recommendation = \"Normal weight. Maintain your lifestyle.\"\n",
    "elif bmi < 29.9:\n",
    "    recommendation = \"Overweight. Regular exercise is recommended.\"\n",
    "else:\n",
    "    recommendation = \"Obese. Consult a healthcare provider.\"\n",
    "\n",
    "print(f\"BMI: {bmi:.2f}. {recommendation}\")  # Step 5: Output BMI and advice.\n"
   ]
  },
  {
   "cell_type": "markdown",
   "metadata": {},
   "source": [
    " # Challenge Level:"
   ]
  },
  {
   "cell_type": "code",
   "execution_count": 81,
   "metadata": {},
   "outputs": [
    {
     "name": "stdout",
     "output_type": "stream",
     "text": [
      "Password is valid.\n"
     ]
    }
   ],
   "source": [
    "#31. Create a program that validates a password based on complexity rules (length, characters, etc.).\n",
    "import re  # Step 1: Import regex for complex pattern matching.\n",
    "\n",
    "# Step 2: Input a password from the user.\n",
    "password = input(\"Enter your password: \")\n",
    "\n",
    "# Step 3: Define validation criteria.\n",
    "if len(password) < 8:\n",
    "    print(\"Password must be at least 8 characters long.\")\n",
    "elif not re.search(r\"[A-Z]\", password):\n",
    "    print(\"Password must include at least one uppercase letter.\")\n",
    "elif not re.search(r\"[a-z]\", password):\n",
    "    print(\"Password must include at least one lowercase letter.\")\n",
    "elif not re.search(r\"\\d\", password):\n",
    "    print(\"Password must include at least one number.\")\n",
    "elif not re.search(r\"[!@#$%^&*(),.?\\\":{}|<>]\", password):\n",
    "    print(\"Password must include at least one special character.\")\n",
    "else:\n",
    "    print(\"Password is valid.\")  # Step 4: Output validation result.\n"
   ]
  },
  {
   "cell_type": "code",
   "execution_count": 82,
   "metadata": {},
   "outputs": [
    {
     "name": "stdout",
     "output_type": "stream",
     "text": [
      "Result: [[6, 8], [10, 12]]\n"
     ]
    }
   ],
   "source": [
    "#32. Develop a program that performs matrix addition and subtraction based on user input.\n",
    "# Step 1: Define two matrices.\n",
    "matrix1 = [[1, 2], [3, 4]]\n",
    "matrix2 = [[5, 6], [7, 8]]\n",
    "\n",
    "operation = input(\"Enter operation (add/subtract): \").lower()  # Step 2: Get user input for operation.\n",
    "\n",
    "# Step 3: Perform the chosen operation.\n",
    "if operation == \"add\":\n",
    "    result = [[matrix1[i][j] + matrix2[i][j] for j in range(len(matrix1[0]))] for i in range(len(matrix1))]\n",
    "elif operation == \"subtract\":\n",
    "    result = [[matrix1[i][j] - matrix2[i][j] for j in range(len(matrix1[0]))] for i in range(len(matrix1))]\n",
    "else:\n",
    "    result = \"Invalid operation\"\n",
    "\n",
    "print(\"Result:\", result)  # Step 4: Output the result.\n"
   ]
  },
  {
   "cell_type": "code",
   "execution_count": 83,
   "metadata": {},
   "outputs": [
    {
     "name": "stdout",
     "output_type": "stream",
     "text": [
      "GCD is: 6\n"
     ]
    }
   ],
   "source": [
    "#33. Write a program that calculates the greatest common divisor (GCD) of two numbers using the Euclidean algorithm.\n",
    "# Step 1: Input two numbers.\n",
    "a, b = 48, 18\n",
    "\n",
    "# Step 2: Apply Euclidean algorithm.\n",
    "while b:\n",
    "    a, b = b, a % b\n",
    "\n",
    "print(\"GCD is:\", a)  # Step 3: Output the GCD.\n"
   ]
  },
  {
   "cell_type": "code",
   "execution_count": 84,
   "metadata": {},
   "outputs": [
    {
     "name": "stdout",
     "output_type": "stream",
     "text": [
      "Resultant Matrix: [[19, 22], [43, 50]]\n"
     ]
    }
   ],
   "source": [
    "#34. Build a program that performs matrix multiplication using nested loops and conditional statements.\n",
    "# Step 1: Define two matrices.\n",
    "matrix1 = [[1, 2], [3, 4]]\n",
    "matrix2 = [[5, 6], [7, 8]]\n",
    "\n",
    "# Step 2: Initialize result matrix.\n",
    "result = [[0 for _ in range(len(matrix2[0]))] for _ in range(len(matrix1))]\n",
    "\n",
    "# Step 3: Multiply matrices using nested loops.\n",
    "for i in range(len(matrix1)):\n",
    "    for j in range(len(matrix2[0])):\n",
    "        for k in range(len(matrix2)):\n",
    "            result[i][j] += matrix1[i][k] * matrix2[k][j]\n",
    "\n",
    "print(\"Resultant Matrix:\", result)  # Step 4: Output the result.\n"
   ]
  },
  {
   "cell_type": "code",
   "execution_count": 88,
   "metadata": {},
   "outputs": [
    {
     "name": "stdout",
     "output_type": "stream",
     "text": [
      "  |   |  \n",
      "  |   |  \n",
      "  |   |  \n",
      "\n",
      "X |   |  \n",
      "  |   |  \n",
      "  |   |  \n",
      "\n",
      "X |   | O\n",
      "  |   |  \n",
      "  |   |  \n",
      "\n",
      "X |   | O\n",
      "  | X |  \n",
      "  |   |  \n",
      "\n",
      "X |   | O\n",
      "  | X |  \n",
      "O |   |  \n",
      "\n",
      "X |   | O\n",
      "X | X |  \n",
      "O |   |  \n",
      "\n",
      "X |   | O\n",
      "X | X | O\n",
      "O |   |  \n",
      "\n",
      "Invalid move. Try again.\n",
      "X |   | O\n",
      "X | X | O\n",
      "O |   |  \n",
      "\n",
      "X |   | O\n",
      "X | X | O\n",
      "O | X |  \n",
      "\n",
      "Invalid move. Try again.\n",
      "It's a tie!\n"
     ]
    }
   ],
   "source": [
    "#35. Create a program that simulates a basic text-based tic-tac-toe game against the computer.\n",
    "# Step 1: Initialize the board.\n",
    "board = [\" \" for _ in range(9)]\n",
    "\n",
    "# Step 2: Define a function to display the board.\n",
    "def display_board():\n",
    "    print(\"\\n\".join([\" | \".join(board[i:i+3]) for i in range(0, 9, 3)]))\n",
    "    print()\n",
    "\n",
    "# Step 3: Define a function to check for a winner.\n",
    "def check_winner():\n",
    "    winning_combinations = [(0, 1, 2), (3, 4, 5), (6, 7, 8), (0, 3, 6), (1, 4, 7), (2, 5, 8), (0, 4, 8), (2, 4, 6)]\n",
    "    for x, y, z in winning_combinations:\n",
    "        if board[x] == board[y] == board[z] != \" \":\n",
    "            return True\n",
    "    return False\n",
    "\n",
    "# Step 4: Simulate the game loop.\n",
    "player = \"X\"\n",
    "for _ in range(9):\n",
    "    display_board()\n",
    "    move = int(input(f\"{player}'s turn (0-8): \"))\n",
    "    if board[move] == \" \":\n",
    "        board[move] = player\n",
    "        if check_winner():\n",
    "            display_board()\n",
    "            print(f\"{player} wins!\")\n",
    "            break\n",
    "        player = \"O\" if player == \"X\" else \"X\"\n",
    "    else:\n",
    "        print(\"Invalid move. Try again.\")\n",
    "else:\n",
    "    print(\"It's a tie!\")\n"
   ]
  },
  {
   "cell_type": "code",
   "execution_count": 89,
   "metadata": {},
   "outputs": [
    {
     "name": "stdout",
     "output_type": "stream",
     "text": [
      "Fibonacci Sequence: [0, 1, 1, 2, 3, 5, 8, 13, 21, 34]\n"
     ]
    }
   ],
   "source": [
    "#36. Write a program that generates Fibonacci numbers up to a specified term using iterative methods.\n",
    "n = 10  # Step 1: Input the number of terms.\n",
    "fib = [0, 1]  # Step 2: Initialize Fibonacci sequence.\n",
    "\n",
    "# Step 3: Generate Fibonacci numbers.\n",
    "for i in range(2, n):\n",
    "    fib.append(fib[-1] + fib[-2])\n",
    "\n",
    "print(\"Fibonacci Sequence:\", fib)  # Step 4: Output the sequence.\n"
   ]
  },
  {
   "cell_type": "code",
   "execution_count": 90,
   "metadata": {},
   "outputs": [
    {
     "name": "stdout",
     "output_type": "stream",
     "text": [
      "10th Fibonacci Number: 55\n"
     ]
    }
   ],
   "source": [
    "#37. Develop a program that calculates the nth term of the Fibonacci sequence using memoization.\n",
    "memo = {}  # Step 1: Initialize a memoization dictionary.\n",
    "\n",
    "# Step 2: Define a function for Fibonacci using memoization.\n",
    "def fib(n):\n",
    "    if n in memo:\n",
    "        return memo[n]\n",
    "    if n <= 1:\n",
    "        return n\n",
    "    memo[n] = fib(n-1) + fib(n-2)\n",
    "    return memo[n]\n",
    "\n",
    "print(\"10th Fibonacci Number:\", fib(10))  # Step 3: Compute and output the result.\n"
   ]
  },
  {
   "cell_type": "code",
   "execution_count": 91,
   "metadata": {},
   "outputs": [
    {
     "name": "stdout",
     "output_type": "stream",
     "text": [
      "   December 2024\n",
      "Mo Tu We Th Fr Sa Su\n",
      "                   1\n",
      " 2  3  4  5  6  7  8\n",
      " 9 10 11 12 13 14 15\n",
      "16 17 18 19 20 21 22\n",
      "23 24 25 26 27 28 29\n",
      "30 31\n",
      "\n"
     ]
    }
   ],
   "source": [
    "#38. Create a program that generates a calendar for a given month and year using conditional statements.\n",
    "import calendar\n",
    "\n",
    "year = 2024  # Step 1: Input the year.\n",
    "month = 12   # Step 2: Input the month.\n",
    "\n",
    "# Step 3: Generate and display the calendar.\n",
    "print(calendar.month(year, month))\n"
   ]
  },
  {
   "cell_type": "code",
   "execution_count": 92,
   "metadata": {},
   "outputs": [
    {
     "name": "stdout",
     "output_type": "stream",
     "text": [
      "Your hand: [11, 7] Value: 18\n",
      "Your hand: [11, 7] Value: 18\n",
      "Computer's hand: [8, 10] Value: 18\n",
      "Computer wins!\n"
     ]
    }
   ],
   "source": [
    "#39. Build a program that simulates a basic text-based blackjack game against the computer.\n",
    "import random\n",
    "\n",
    "# Step 1: Define card deck.\n",
    "deck = [2, 3, 4, 5, 6, 7, 8, 9, 10, 10, 10, 10, 11] * 4\n",
    "random.shuffle(deck)\n",
    "\n",
    "# Step 2: Deal initial hands.\n",
    "player_hand = [deck.pop(), deck.pop()]\n",
    "computer_hand = [deck.pop(), deck.pop()]\n",
    "\n",
    "# Step 3: Calculate hand value.\n",
    "def hand_value(hand):\n",
    "    value = sum(hand)\n",
    "    if value > 21 and 11 in hand:\n",
    "        hand[hand.index(11)] = 1\n",
    "    return sum(hand)\n",
    "\n",
    "# Step 4: Simulate player and computer turns.\n",
    "while hand_value(player_hand) < 21:\n",
    "    print(\"Your hand:\", player_hand, \"Value:\", hand_value(player_hand))\n",
    "    if input(\"Hit or stand? (h/s): \") == \"h\":\n",
    "        player_hand.append(deck.pop())\n",
    "    else:\n",
    "        break\n",
    "\n",
    "while hand_value(computer_hand) < 17:\n",
    "    computer_hand.append(deck.pop())\n",
    "\n",
    "# Step 5: Determine the result.\n",
    "print(\"Your hand:\", player_hand, \"Value:\", hand_value(player_hand))\n",
    "print(\"Computer's hand:\", computer_hand, \"Value:\", hand_value(computer_hand))\n",
    "\n",
    "if hand_value(player_hand) > 21:\n",
    "    print(\"You bust! Computer wins.\")\n",
    "elif hand_value(computer_hand) > 21 or hand_value(player_hand) > hand_value(computer_hand):\n",
    "    print(\"You win!\")\n",
    "else:\n",
    "    print(\"Computer wins!\")\n"
   ]
  },
  {
   "cell_type": "code",
   "execution_count": 93,
   "metadata": {},
   "outputs": [
    {
     "name": "stdout",
     "output_type": "stream",
     "text": [
      "Prime Factors: [2, 2, 2, 7]\n"
     ]
    }
   ],
   "source": [
    "#40. Write a program that generates the prime factors of a given number using trial division\n",
    "n = 56  # Step 1: Input the number.\n",
    "\n",
    "# Step 2: Find prime factors using trial division.\n",
    "factors = []\n",
    "divisor = 2\n",
    "while n > 1:\n",
    "    while n % divisor == 0:\n",
    "        factors.append(divisor)\n",
    "        n //= divisor\n",
    "    divisor += 1\n",
    "\n",
    "print(\"Prime Factors:\", factors)  # Step 3: Output the prime factors.\n"
   ]
  }
 ],
 "metadata": {
  "kernelspec": {
   "display_name": "Python 3",
   "language": "python",
   "name": "python3"
  },
  "language_info": {
   "codemirror_mode": {
    "name": "ipython",
    "version": 3
   },
   "file_extension": ".py",
   "mimetype": "text/x-python",
   "name": "python",
   "nbconvert_exporter": "python",
   "pygments_lexer": "ipython3",
   "version": "3.12.4"
  }
 },
 "nbformat": 4,
 "nbformat_minor": 2
}
